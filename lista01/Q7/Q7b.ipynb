{
 "cells": [
  {
   "cell_type": "code",
   "execution_count": 1,
   "metadata": {},
   "outputs": [],
   "source": [
    "import numpy as np \n",
    "import matplotlib.pyplot as plt \n",
    "from mpl_toolkits.mplot3d import Axes3D\n",
    "from matplotlib import cm\n",
    "%matplotlib inline"
   ]
  },
  {
   "cell_type": "code",
   "execution_count": 2,
   "metadata": {},
   "outputs": [],
   "source": [
    "np.random.seed(42)\n"
   ]
  },
  {
   "cell_type": "code",
   "execution_count": 3,
   "metadata": {},
   "outputs": [],
   "source": [
    "def f_x(xx, yy):\n",
    "    return ((np.cos(2*np.pi*xx)/(1-(4*xx)**2))*(np.sin(np.pi*xx)/(np.pi*xx)))*((np.cos(2*np.pi*yy)/(1-(4*yy)**2))*(np.sin(np.pi*yy)/(np.pi*yy)))\n",
    "\n",
    "def generate_array(size):\n",
    "    \n",
    "    #n = np.linspace(-4*np.pi, 4*np.pi, size)\n",
    "    n = np.linspace(-np.pi, np.pi, size)\n",
    "    x, y = np.meshgrid(n, n)\n",
    "    \n",
    "    z = f_x(x, y)\n",
    "\n",
    "    X = np.ravel(x)\n",
    "    Y = np.ravel(y)\n",
    "    Z = np.ravel(z)\n",
    "    \n",
    "    dt = np.c_[X, Y]\n",
    "    dt = np.c_[dt, Z]\n",
    "    #np.random.shuffle(dt)\n",
    "    return dt"
   ]
  },
  {
   "cell_type": "code",
   "execution_count": 4,
   "metadata": {},
   "outputs": [
    {
     "name": "stderr",
     "output_type": "stream",
     "text": [
      "Using TensorFlow backend.\n"
     ]
    }
   ],
   "source": [
    "from keras import models, layers"
   ]
  },
  {
   "cell_type": "code",
   "execution_count": 5,
   "metadata": {},
   "outputs": [
    {
     "name": "stdout",
     "output_type": "stream",
     "text": [
      "WARNING:tensorflow:From /home/martins/anaconda3/lib/python3.6/site-packages/tensorflow/python/framework/op_def_library.py:263: colocate_with (from tensorflow.python.framework.ops) is deprecated and will be removed in a future version.\n",
      "Instructions for updating:\n",
      "Colocations handled automatically by placer.\n",
      "Fitting\n",
      "WARNING:tensorflow:From /home/martins/anaconda3/lib/python3.6/site-packages/tensorflow/python/ops/math_ops.py:3066: to_int32 (from tensorflow.python.ops.math_ops) is deprecated and will be removed in a future version.\n",
      "Instructions for updating:\n",
      "Use tf.cast instead.\n",
      "Finished\n"
     ]
    }
   ],
   "source": [
    "dt_train = generate_array(100)\n",
    "dt_val = generate_array(50)\n",
    "\n",
    "#in_array, out_array = dt[:,:2], dt[:,2]\n",
    "\n",
    "#X_train, Y_train = in_array[:7500], out_array[:7500]\n",
    "X_train, Y_train = dt_train[:,:2], dt_train[:,2]\n",
    "#X_val, Y_val = in_array[7500:], out_array[7500:]\n",
    "X_val, Y_val = dt_val[:,:2], dt_val[:,2]\n",
    "\n",
    "net = models.Sequential()\n",
    "net.add(layers.Dense(8, activation='tanh', input_shape=(2,)))\n",
    "net.add(layers.Dense(8, activation='tanh'))\n",
    "net.add(layers.Dense(1))\n",
    "\n",
    "net.compile(optimizer='rmsprop', loss='mse', metrics=['mse'])\n",
    "print(\"Fitting\")\n",
    "history = net.fit(X_train, Y_train, epochs=15, batch_size=10, validation_data=(X_val, Y_val), verbose=0)\n",
    "print(\"Finished\")"
   ]
  },
  {
   "cell_type": "code",
   "execution_count": 6,
   "metadata": {},
   "outputs": [
    {
     "data": {
      "image/png": "[encoded data removed]",
      "text/plain": [
       "<Figure size 432x288 with 1 Axes>"
      ]
     },
     "metadata": {
      "needs_background": "light"
     },
     "output_type": "display_data"
    }
   ],
   "source": [
    "loss = history.history['loss']\n",
    "val_loss = history.history[\"val_loss\"]\n",
    "\n",
    "acc = history.history['mean_squared_error']\n",
    "val_acc = history.history['val_mean_squared_error']\n",
    "\n",
    "epochs = range(1, len(loss)+1)\n",
    "\n",
    "#fig, (ax1, ax2) = plt.subplots(2,1)\n",
    "plt.figure()\n",
    "# ax1.plot(epochs, loss, 'b-', label='Training loss')\n",
    "# ax1.plot(epochs, val_loss, 'bo', label='Validation loss')\n",
    "# ax1.set_xlabel('Epochs')\n",
    "# ax1.set_ylabel('Loss')\n",
    "# ax1.legend()\n",
    "\n",
    "plt.plot(epochs, acc, 'r-', label='MSE treinamento')\n",
    "plt.plot(epochs, val_acc, 'ro', label='MSE validação')\n",
    "plt.xlabel('Epochs')\n",
    "plt.ylabel('MSE')\n",
    "plt.legend()\n",
    "\n",
    "plt.savefig('/home/martins/fig_7b_epochs.png')\n",
    "plt.show()"
   ]
  },
  {
   "cell_type": "markdown",
   "metadata": {},
   "source": [
    "### Predicting"
   ]
  },
  {
   "cell_type": "code",
   "execution_count": 7,
   "metadata": {},
   "outputs": [],
   "source": [
    "pred = net.predict(X_train)\n",
    "\n",
    "np.savetxt(\"result_7b.csv\", np.c_[dt_train, pred], delimiter=',')\n",
    "\n",
    "# dimen = int(np.sqrt(len(X_train)))\n",
    "# fig = plt.figure()\n",
    "\n",
    "# ax = fig.gca(projection='3d')\n",
    "# ax.plot_surface(dt_train[:,0].reshape(dimen, -1), dt_train[:,1].reshape(dimen, -1), Y_train.reshape(dimen, -1), alpha=0.5, label='Original')\n",
    "# ax.plot_surface(dt_train[:,0].reshape(dimen, -1), dt_train[:,1].reshape(dimen, -1), pred.reshape(dimen, -1), alpha=0.5, label='Aproximada', color='r')\n",
    "\n",
    "#plt.savefig('comp.png')"
   ]
  },
  {
   "cell_type": "code",
   "execution_count": null,
   "metadata": {},
   "outputs": [],
   "source": []
  }
 ],
 "metadata": {
  "kernelspec": {
   "display_name": "Python 3",
   "language": "python",
   "name": "python3"
  },
  "language_info": {
   "codemirror_mode": {
    "name": "ipython",
    "version": 3
   },
   "file_extension": ".py",
   "mimetype": "text/x-python",
   "name": "python",
   "nbconvert_exporter": "python",
   "pygments_lexer": "ipython3",
   "version": "3.6.6"
  }
 },
 "nbformat": 4,
 "nbformat_minor": 2
}
